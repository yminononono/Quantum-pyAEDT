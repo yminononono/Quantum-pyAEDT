{
 "cells": [
  {
   "cell_type": "code",
   "execution_count": 1,
   "id": "8e64c7b5",
   "metadata": {},
   "outputs": [],
   "source": [
    "%load_ext autoreload\n",
    "%autoreload 2"
   ]
  },
  {
   "cell_type": "code",
   "execution_count": 2,
   "id": "eb45b17e",
   "metadata": {},
   "outputs": [],
   "source": [
    "#from pyaedt.hfss import Hfss\n",
    "from ansys.aedt.core import Hfss\n",
    "import os, copy, pprint, math\n",
    "import numpy as np\n",
    "import matplotlib.pyplot as plt\n",
    "from tqdm.contrib import tenumerate\n",
    "from tqdm import tqdm\n",
    "\n",
    "from pathlib import Path\n",
    "import sys\n",
    "sys.path.append(str(Path.cwd() / 'util/'))\n",
    "\n",
    "from functions import *\n",
    "from devices import *"
   ]
  },
  {
   "cell_type": "markdown",
   "id": "8751a59d",
   "metadata": {},
   "source": [
    "## Configuration"
   ]
  },
  {
   "cell_type": "code",
   "execution_count": 3,
   "id": "cc05ecc9",
   "metadata": {},
   "outputs": [
    {
     "name": "stdout",
     "output_type": "stream",
     "text": [
      "{'parameter': {'$cavity_height': '16mm',\n",
      "               '$cavity_length': '6mm',\n",
      "               '$cavity_width': '17mm',\n",
      "               '$chip_gap': '300um',\n",
      "               '$chip_height': '200um',\n",
      "               '$chip_inductance': '4.5nH',\n",
      "               '$chip_pos_x': '0',\n",
      "               '$chip_pos_y': '0',\n",
      "               '$chip_pos_z': '$chip_pos_z_ratio*$cavity_height',\n",
      "               '$chip_pos_z_ratio': '0.5',\n",
      "               '$chip_theta': '0deg',\n",
      "               '$chip_width': '400um',\n",
      "               '$port_distance': '10mm',\n",
      "               '$port_height': '7mm',\n",
      "               '$port_in_depth': '3mm',\n",
      "               '$port_inner_radius': '0.3mm',\n",
      "               '$port_out_depth': '5.5mm',\n",
      "               '$port_outer_radius': '2.1mm',\n",
      "               '$wafer_height': '0.95*$cavity_length',\n",
      "               '$wafer_thickness': '0.525mm',\n",
      "               '$wafer_width': '2mm',\n",
      "               'cavity_fillet': '2.5mm'},\n",
      " 'solution': {'name': 'Cavity10G',\n",
      "              'options': {'SaveFields': True,\n",
      "                          'adaptive_setup_frequency': 10.0,\n",
      "                          'adaptive_solution_type': 'single',\n",
      "                          'copy_mesh': True,\n",
      "                          'max_delta_s': 0.02,\n",
      "                          'max_passes': 20,\n",
      "                          'medium_frequency': 10.0,\n",
      "                          'min_frequency': '2GHz',\n",
      "                          'n_mode': 3,\n",
      "                          'n_waveport_mode': 1,\n",
      "                          'num_of_freq_points': 601,\n",
      "                          'start_frequency': 7.0,\n",
      "                          'stop_frequency': 13.0},\n",
      "              'type': 'Eigenmode'},\n",
      " 'sweep': {'config': {'$chip_gap': [{'end_point': 520,\n",
      "                                     'start_point': 20,\n",
      "                                     'step': 100,\n",
      "                                     'units': 'um',\n",
      "                                     'variation_type': 'LinearStep'},\n",
      "                                    {'end_point': 2020,\n",
      "                                     'start_point': 1020,\n",
      "                                     'step': 500,\n",
      "                                     'units': 'um',\n",
      "                                     'variation_type': 'LinearStep'}],\n",
      "                      '$chip_height': [{'end_point': 3000,\n",
      "                                        'start_point': 500,\n",
      "                                        'step': 500,\n",
      "                                        'units': 'um',\n",
      "                                        'variation_type': 'LinearStep'}],\n",
      "                      '$chip_inductance': [{'end_point': 3.5,\n",
      "                                            'start_point': 1.5,\n",
      "                                            'step': 0.2,\n",
      "                                            'units': 'nH',\n",
      "                                            'variation_type': 'LinearStep'},\n",
      "                                           {'end_point': 6,\n",
      "                                            'start_point': 4,\n",
      "                                            'step': 0.5,\n",
      "                                            'units': 'nH',\n",
      "                                            'variation_type': 'LinearStep'}],\n",
      "                      '$chip_pos_z_ratio': [{'end_point': 0.8,\n",
      "                                             'start_point': 0.4,\n",
      "                                             'step': 0.1,\n",
      "                                             'units': None,\n",
      "                                             'variation_type': 'LinearStep'}],\n",
      "                      '$chip_theta': [{'end_point': 0,\n",
      "                                       'start_point': 0,\n",
      "                                       'step': 1,\n",
      "                                       'units': 'deg',\n",
      "                                       'variation_type': 'LinearCount'}],\n",
      "                      '$chip_width': [{'end_point': 1000,\n",
      "                                       'start_point': 100,\n",
      "                                       'step': 150,\n",
      "                                       'units': 'um',\n",
      "                                       'variation_type': 'LinearStep'},\n",
      "                                      {'end_point': 3000,\n",
      "                                       'start_point': 1500,\n",
      "                                       'step': 500,\n",
      "                                       'units': 'um',\n",
      "                                       'variation_type': 'LinearStep'}]},\n",
      "           'list': {'Eigenmode': ['$chip_inductance'], 'Modal': []}}}\n"
     ]
    }
   ],
   "source": [
    "config = load_config( \"config/Cavity_Qubit10G.yaml\" )\n",
    "\n",
    "pprint.pprint(config)\n",
    "options = config[\"solution\"][\"options\"]"
   ]
  },
  {
   "cell_type": "code",
   "execution_count": 4,
   "id": "d4c80c74",
   "metadata": {},
   "outputs": [],
   "source": [
    "if len(config[\"sweep\"][\"list\"][config[\"solution\"][\"type\"]]) == 0:\n",
    "    no_variation = False\n",
    "else:\n",
    "    no_variation = True"
   ]
  },
  {
   "cell_type": "markdown",
   "id": "bfa7f09f",
   "metadata": {},
   "source": [
    "## Make project and design"
   ]
  },
  {
   "cell_type": "code",
   "execution_count": 5,
   "id": "3751e622",
   "metadata": {},
   "outputs": [
    {
     "name": "stdout",
     "output_type": "stream",
     "text": [
      "PyAEDT INFO: Python version 3.11.13 | packaged by conda-forge | (main, Jun  4 2025, 14:39:58) [MSC v.1943 64 bit (AMD64)].\n",
      "PyAEDT INFO: PyAEDT version 0.17.4.\n",
      "PyAEDT INFO: Initializing new Desktop session.\n",
      "PyAEDT INFO: Log on console is enabled.\n",
      "PyAEDT INFO: Log on file C:\\Users\\ymino\\AppData\\Local\\Temp\\15\\pyaedt_ymino_6eebf3f5-0bbb-49c2-9074-7d2743df0f46.log is enabled.\n",
      "PyAEDT INFO: Log on AEDT is disabled.\n",
      "PyAEDT INFO: Debug logger is disabled. PyAEDT methods will not be logged.\n",
      "PyAEDT INFO: Launching PyAEDT with gRPC plugin.\n",
      "PyAEDT ERROR: A(n) <class 'psutil.AccessDenied'> error occurred while retrieving information for the active AEDT sessions: (pid=11984, name='ansysedt.exe')\n",
      "PyAEDT ERROR: A(n) <class 'psutil.AccessDenied'> error occurred while retrieving information for the active AEDT sessions: (pid=16452, name='ansysedt.exe')\n",
      "PyAEDT ERROR: A(n) <class 'psutil.AccessDenied'> error occurred while retrieving information for the active AEDT sessions: (pid=16864, name='ansysedt.exe')\n",
      "PyAEDT ERROR: A(n) <class 'psutil.AccessDenied'> error occurred while retrieving information for the active AEDT sessions: (pid=11984, name='ansysedt.exe')\n",
      "PyAEDT ERROR: A(n) <class 'psutil.AccessDenied'> error occurred while retrieving information for the active AEDT sessions: (pid=16452, name='ansysedt.exe')\n",
      "PyAEDT ERROR: A(n) <class 'psutil.AccessDenied'> error occurred while retrieving information for the active AEDT sessions: (pid=16864, name='ansysedt.exe')\n",
      "PyAEDT ERROR: A(n) <class 'psutil.AccessDenied'> error occurred while retrieving information for the active AEDT sessions: (pid=11984, name='ansysedt.exe')\n",
      "PyAEDT ERROR: A(n) <class 'psutil.AccessDenied'> error occurred while retrieving information for the active AEDT sessions: (pid=16452, name='ansysedt.exe')\n",
      "PyAEDT ERROR: A(n) <class 'psutil.AccessDenied'> error occurred while retrieving information for the active AEDT sessions: (pid=16864, name='ansysedt.exe')\n",
      "PyAEDT INFO: New AEDT session is starting on gRPC port 62123.\n",
      "PyAEDT INFO: Electronics Desktop started on gRPC port: 62123 after 11.628929853439331 seconds.\n",
      "PyAEDT INFO: AEDT installation Path C:\\Program Files\\AnsysEM\\v232\\Win64\n",
      "PyAEDT INFO: Ansoft.ElectronicsDesktop.2023.2 version started with process ID 26700.\n",
      "PyAEDT INFO: Project test has been created.\n",
      "PyAEDT INFO: Added design 'A1' of type HFSS.\n",
      "PyAEDT INFO: Aedt Objects correctly read\n"
     ]
    }
   ],
   "source": [
    "hfss = Hfss(\n",
    "    project       = \"test.aedt\",\n",
    "    design        = \"A1\",\n",
    "    solution_type = config[\"solution\"][\"type\"]\n",
    ")\n",
    "hfss.logger.logger.setLevel(\"WARNING\")\n",
    "hfss.modeler.logger.logger.setLevel(\"WARNING\")"
   ]
  },
  {
   "cell_type": "markdown",
   "id": "a2539472",
   "metadata": {},
   "source": [
    "## Create Objects"
   ]
  },
  {
   "cell_type": "code",
   "execution_count": 6,
   "id": "5f58ca59",
   "metadata": {},
   "outputs": [],
   "source": [
    "device_BoxCavity(hfss, config)"
   ]
  },
  {
   "cell_type": "markdown",
   "id": "f8496bf5",
   "metadata": {},
   "source": [
    "## Create Analysis Setup"
   ]
  },
  {
   "cell_type": "code",
   "execution_count": 7,
   "id": "33837df6",
   "metadata": {},
   "outputs": [
    {
     "name": "stdout",
     "output_type": "stream",
     "text": [
      "{'BasisOrder': 1,\n",
      " 'ConvergeOnRealFreq': False,\n",
      " 'DoLambdaRefine': True,\n",
      " 'DoMaterialLambda': True,\n",
      " 'IsEnabled': True,\n",
      " 'MaxDeltaFreq': 10,\n",
      " 'MaximumPasses': 20,\n",
      " 'MeshLink': {'ImportMesh': False},\n",
      " 'MinimumConvergedPasses': 1,\n",
      " 'MinimumFrequency': '2GHz',\n",
      " 'MinimumPasses': 1,\n",
      " 'Name': 'Cavity10G',\n",
      " 'NumModes': 3,\n",
      " 'PercentRefinement': 30,\n",
      " 'SetLambdaTarget': False,\n",
      " 'Target': 0.2,\n",
      " 'UseMaxTetIncrease': False}\n"
     ]
    }
   ],
   "source": [
    "create_setup(hfss, config)\n"
   ]
  },
  {
   "cell_type": "markdown",
   "id": "6498819d",
   "metadata": {},
   "source": [
    "## Optimetrics"
   ]
  },
  {
   "cell_type": "code",
   "execution_count": 8,
   "id": "e7de1b63",
   "metadata": {},
   "outputs": [],
   "source": [
    "sweep = create_sweep(hfss, config)"
   ]
  },
  {
   "cell_type": "markdown",
   "id": "5f2d6ba8",
   "metadata": {},
   "source": [
    "## Analyze"
   ]
  },
  {
   "cell_type": "code",
   "execution_count": 9,
   "id": "ee3735be",
   "metadata": {},
   "outputs": [
    {
     "name": "stdout",
     "output_type": "stream",
     "text": [
      "<ansys.aedt.core.modules.design_xploration.SetupParam object at 0x000002123EB00ED0>\n"
     ]
    }
   ],
   "source": [
    "if not no_variation:\n",
    "    hfss.analyze_setup(name = config[\"solution\"][\"name\"], cores=8)\n",
    "else:\n",
    "    ## You can check the available properties\n",
    "    # print(sweep.props)\n",
    "    ## If you want to enable SaveFields & CopyMesh, you need to directly rewrite the properties using the dictionary\n",
    "    # hfss.set_oo_property_value(\n",
    "    #     aedt_object=hfss.ooptimetrics, \n",
    "    #     object_name=\"ChipInductance\", \n",
    "    #     prop_name='SaveFields', \n",
    "    #     value='True')\n",
    "    print(sweep)\n",
    "    sweep.props[\"ProdOptiSetupDataV2\"][\"SaveFields\"] = options[\"SaveFields\"]\n",
    "    if config[\"solution\"][\"type\"] == \"Eigenmode\":\n",
    "        sweep.props[\"ProdOptiSetupDataV2\"][\"CopyMesh\"] = options[\"copy_mesh\"]\n",
    "    sweep.analyze(cores = 8)"
   ]
  },
  {
   "cell_type": "markdown",
   "id": "cd0c0c76",
   "metadata": {},
   "source": [
    "## Produce Report"
   ]
  },
  {
   "cell_type": "code",
   "execution_count": 10,
   "id": "142142a7",
   "metadata": {},
   "outputs": [],
   "source": [
    "if config[\"solution\"][\"type\"] == \"Modal\":\n",
    "    report_config = dict(\n",
    "        expressions=[\"db(S12)\"], \n",
    "        #expressions=[\"db(S(Port_out,Port_in))\",\"db(S(Port_out1,Port_in))\"], \n",
    "        plot_name=\"S-parameter\", \n",
    "        variations={\n",
    "            \"Freq\": [\"All\"],\n",
    "        }\n",
    "    )\n",
    "    if options[\"n_waveport_mode\"] >= 2:\n",
    "        expressions = []\n",
    "        for i in range(options[\"n_waveport_mode\"]):\n",
    "            expressions.append(f\"db(S(Port_out,Port_in:{i+1}))\")\n",
    "        report_config.update(\n",
    "            expressions = expressions\n",
    "        )\n",
    "else:\n",
    "    report_config = dict(\n",
    "        # expressions=[\"Mode(1)\",\"Mode(2)\",\"Mode(3)\"], \n",
    "        plot_name=\"Eigen modes\", \n",
    "        variations={}\n",
    "    )\n",
    "\n",
    "# Add variations to report_config\n",
    "for var in config[\"sweep\"][\"list\"][config[\"solution\"][\"type\"]]:\n",
    "    report_config[\"variations\"][var] = [\"All\"]\n",
    "\n",
    "report = hfss.post.create_report( **report_config )"
   ]
  },
  {
   "cell_type": "code",
   "execution_count": 11,
   "id": "ebf46206",
   "metadata": {},
   "outputs": [],
   "source": [
    "# traces_to_plot = hfss.get_traces_for_plot()\n",
    "# report = hfss.post.create_report(traces_to_plot)  # Creates a report in HFSS\n",
    "# solution = report.get_solution_data()\n",
    "# solution.plot(solution.expressions[1])  # Matplotlib axes object."
   ]
  },
  {
   "cell_type": "code",
   "execution_count": 12,
   "id": "3fa89415",
   "metadata": {},
   "outputs": [],
   "source": [
    "if config[\"solution\"][\"type\"] == \"Modal\":\n",
    "    expressions=[\"db(S(Port_out,Port_in))\"]\n",
    "    \n",
    "    # report = hfss.post.reports_by_category.eigenmode(expressions=expressions)\n",
    "    solution_data = report.get_solution_data()\n",
    "    solution_data.export_data_to_csv(output=\"output/CoaxCavity_Modal.csv\")\n",
    "    # Get S21 data\n",
    "    print(report.expressions)\n",
    "\n",
    "    # Get frequency list\n",
    "    freq_list = [ i.value for i in solution_data.variation_values(variation=\"Freq\") ]\n",
    "\n",
    "    if not no_variation:\n",
    "        S = solution_data.data_real()\n",
    "        plt.figure(figsize=(10,5))\n",
    "        plt.subplot(111, xlabel = \"Frequency [GHz]\", ylabel = \"S21\")\n",
    "        plt.plot(freq_list, S, marker = \".\")\n",
    "        plt.xlim(5,20)\n",
    "        plt.ylim(-50,0)\n",
    "    else:\n",
    "        print(solution_data.variations)\n",
    "        mode_S_array = np.zeros(shape=(len(solution_data.variations), len(freq_list)))\n",
    "    \n",
    "\n",
    "        # First retrieve all information\n",
    "        if options[\"n_waveport_mode\"] == 2:\n",
    "            # If there are two modes, add S-parameters\n",
    "            for id in tqdm(range(len(solution_data.variations))):\n",
    "                solution_data.set_active_variation(id)\n",
    "                power_array = np.zeros(shape=(1, len(freq_list)))\n",
    "                for expr in report.expressions:\n",
    "                    # print(id, expr, solution_data.data_real(expression=expr))\n",
    "                    power_array += np.power(10, 0.1*np.array(solution_data.data_real(expression=expr)))\n",
    "                mode_S_array[id] = 10*np.log10(power_array)\n",
    "        else:\n",
    "            for id in tqdm(range(len(solution_data.variations))):\n",
    "                solution_data.set_active_variation(id)\n",
    "                mode_S_array[id] = solution_data.data_real()\n",
    "\n",
    "        # plt.figure(figsize=(10,5))\n",
    "        # plt.subplot(111, xlabel = \"Frequency [GHz]\", ylabel = \"S21\")\n",
    "        # for id, var in enumerate(solution_data.variations):\n",
    "        #     plt.plot(freq_list, mode_S_array[id], marker = \".\", label = var.values())\n",
    "        # plt.xlim(10,20)\n",
    "        # plt.ylim(-70,0)\n",
    "        # plt.legend(loc = \"lower right\")\n",
    "\n",
    "        # Find variation with least loss between 12 ~ 20 GHz\n",
    "        average_list = []\n",
    "        # for id, var in enumerate(solution_data.variations):\n",
    "        for id, var in tenumerate(solution_data.variations):\n",
    "            total = 0\n",
    "            point = 0\n",
    "            for freq, S21 in zip(freq_list, mode_S_array[id]):\n",
    "                if 12 < freq and freq < 20:\n",
    "                    total += S21\n",
    "                    point += 1\n",
    "            average = float(total/point)\n",
    "            average_list.append(average)\n",
    "\n",
    "        # max_index = np.argmax(average_list)\n",
    "        # print(average_list[max_index])\n",
    "        # print(solution_data.variations[max_index])\n",
    "\n",
    "        num = 8 # Number of variations to show\n",
    "\n",
    "        sorted_indices = sorted(range(len(average_list)), key=lambda i: average_list[i], reverse=True)\n",
    "        for i, id in enumerate(sorted_indices):\n",
    "            print(average_list[id], solution_data.variations[id])\n",
    "            if i == num - 1:\n",
    "                break\n",
    "\n",
    "        plt.figure(figsize=(10,5))\n",
    "        plt.subplot(111, xlabel = \"Frequency [GHz]\", ylabel = \"S21\")\n",
    "\n",
    "        for i, id in enumerate(sorted_indices):\n",
    "            var = solution_data.variations[id]\n",
    "            plt.plot(freq_list, mode_S_array[id], marker = \".\", label = var.values())\n",
    "            if i == num - 1:\n",
    "                break\n",
    "        plt.xlim(10,20)\n",
    "        plt.ylim(-40,0)\n",
    "        plt.legend( bbox_to_anchor=(0., 1.05), loc = \"lower left\")\n",
    "\n",
    "        for x_var in solution_data.variations[0]:\n",
    "            x = {}\n",
    "            y = {}\n",
    "            for id, vars in tenumerate(solution_data.variations):  \n",
    "                key = \"\"\n",
    "                for var in vars:\n",
    "                    if var == x_var:\n",
    "                        x_value = vars[x_var].value\n",
    "                    else:\n",
    "                        key += rename_var(vars, var) + \", \"\n",
    "                if key not in x:\n",
    "                    x[key] = []\n",
    "                    y[key] = []\n",
    "                # x[key].append( pos_z_ratio )\n",
    "                x[key].append( x_value )\n",
    "                y[key].append( average_list[id] )\n",
    "\n",
    "            # Use the list to select top rows\n",
    "            top_keys = []\n",
    "            for i, id in enumerate(sorted_indices):\n",
    "                vars = solution_data.variations[id]\n",
    "                key = \"\"\n",
    "                for var in vars:\n",
    "                    if var == x_var:\n",
    "                        pass\n",
    "                    else:\n",
    "                        key += rename_var(vars, var)  + \", \"\n",
    "                top_keys.append(key)\n",
    "                if i == num - 1:\n",
    "                    break\n",
    "\n",
    "            plt.rcParams[\"font.size\"] = 16\n",
    "            plt.figure(figsize=(6,5))\n",
    "\n",
    "            marker_map = [\n",
    "                'o', '^', 's'\n",
    "            ]\n",
    "            for i, key in enumerate(x):\n",
    "                if key in top_keys:\n",
    "                    plt.plot(x[key], y[key], marker = marker_map[i%3], label = key, linewidth=3, markersize=8)\n",
    "                    plt.xlabel(x_var)\n",
    "            # plt.ylim(-30,0)\n",
    "            # plt.legend(loc = \"lower left\", fontsize=\"large\")\n",
    "            plt.legend( bbox_to_anchor=(0, 1.05), loc='lower left' )\n",
    "            plt.savefig('output/sweep_' + x_var.replace('$','') + '.png', bbox_inches='tight')"
   ]
  },
  {
   "cell_type": "code",
   "execution_count": 13,
   "id": "dfcd6cf6",
   "metadata": {},
   "outputs": [
    {
     "name": "stdout",
     "output_type": "stream",
     "text": [
      "{'$chip_inductance': 1.5e-09nH}\n",
      "{'$chip_inductance': 1.7e-09nH}\n",
      "{'$chip_inductance': 1.9e-09nH}\n",
      "{'$chip_inductance': 2.1e-09nH}\n",
      "{'$chip_inductance': 2.3e-09nH}\n",
      "{'$chip_inductance': 2.5e-09nH}\n",
      "{'$chip_inductance': 2.7e-09nH}\n",
      "{'$chip_inductance': 2.9e-09nH}\n",
      "{'$chip_inductance': 3.1e-09nH}\n",
      "{'$chip_inductance': 3.3e-09nH}\n",
      "{'$chip_inductance': 3.5e-09nH}\n",
      "{'$chip_inductance': 4e-09nH}\n",
      "{'$chip_inductance': 4.500000000000001e-09nH}\n",
      "{'$chip_inductance': 5e-09nH}\n",
      "{'$chip_inductance': 5.5e-09nH}\n",
      "{'$chip_inductance': 6.000000000000001e-09nH}\n"
     ]
    }
   ],
   "source": [
    "solution_data = report.get_solution_data()\n",
    "for id in range(len(solution_data.variations)):\n",
    "    print(solution_data.variations[id])\n",
    "    solution_data.set_active_variation(id)"
   ]
  },
  {
   "cell_type": "code",
   "execution_count": 14,
   "id": "5d519789",
   "metadata": {},
   "outputs": [
    {
     "name": "stdout",
     "output_type": "stream",
     "text": [
      "average:\n",
      "[np.float64(12376042911.042234)]\n"
     ]
    },
    {
     "data": {
      "image/png": "[encoded data removed]",
      "text/plain": [
       "<Figure size 1500x1000 with 5 Axes>"
      ]
     },
     "metadata": {},
     "output_type": "display_data"
    }
   ],
   "source": [
    "if config[\"solution\"][\"type\"] == \"Eigenmode\":\n",
    "    # report = hfss.post.reports_by_category.eigenmode(expressions=expressions)\n",
    "    solution_data = report.get_solution_data()\n",
    "    solution_data.export_data_to_csv(output=f'output/{config[\"solution\"][\"name\"]}_Eigenmode.csv')\n",
    "\n",
    "    max_freq_list = []\n",
    "    max_Q_list = []\n",
    "    next_freq_list = []\n",
    "    next_Q_list = []\n",
    "    mode_freq_array = np.zeros(shape=(len(report.expressions), len(solution_data.variations)))\n",
    "    mode_Q_array = np.zeros(shape=(len(report.expressions), len(solution_data.variations)))\n",
    "\n",
    "    # First retrieve all information\n",
    "    for id in range(len(solution_data.variations)):\n",
    "         solution_data.set_active_variation(id)\n",
    "         for imode, mode in enumerate(report.expressions):\n",
    "            freq = solution_data.data_real(mode)[0]\n",
    "            Q = abs(0.5 * freq / solution_data.data_imag(mode)[0])\n",
    "            # if solution_data.data_imag(mode)[0] > 0:\n",
    "            #     Q = abs(0.5 * freq / solution_data.data_imag(mode)[0])\n",
    "            # else:\n",
    "            #     Q = 1e+11\n",
    "            mode_freq_array[imode][id] = freq\n",
    "            mode_Q_array[imode][id] = Q\n",
    "    # Get unrelated mode info\n",
    "    if options[\"copy_mesh\"]:\n",
    "        tol = 0.1e+9\n",
    "    else:\n",
    "        tol = 0.05e+9\n",
    "    flat = mode_freq_array.flatten()\n",
    "    groups = []\n",
    "    averages = []\n",
    "    used = set()\n",
    "\n",
    "    min_count = int(0.8*len(solution_data.variations))\n",
    "    for i, val in enumerate(flat):\n",
    "        if i in used:\n",
    "            continue\n",
    "        close_idx = np.where(np.abs(flat - val) <= tol)[0]\n",
    "        if len(close_idx) >= min_count:  # 指定回数以上出現した場合のみ\n",
    "            group_vals = flat[close_idx]\n",
    "            avg = np.mean(group_vals)\n",
    "            groups.append(group_vals.tolist())\n",
    "            averages.append(avg)\n",
    "            used.update(close_idx)\n",
    "\n",
    "    print(\"average:\")\n",
    "    pprint.pprint(averages)\n",
    "\n",
    "    if not no_variation:\n",
    "        pass\n",
    "    else:\n",
    "        for id in range(len(solution_data.variations)):\n",
    "            #print(solution_data.variations[id])\n",
    "            solution_data.set_active_variation(id)\n",
    "\n",
    "            max_Q = 1\n",
    "            max_freq = 1\n",
    "            next_Q = 1\n",
    "            next_freq = 1\n",
    "            for imode, mode in enumerate(report.expressions):\n",
    "                freq = solution_data.data_real(mode)[0]\n",
    "                Q = abs(0.5 * freq / solution_data.data_imag(mode)[0])\n",
    "                # if solution_data.data_imag(mode)[0] > 0:\n",
    "                #     Q = abs(0.5 * freq / solution_data.data_imag(mode)[0])\n",
    "                # else:\n",
    "                #     Q = 1e+11\n",
    "                if any(np.abs(np.array(averages) - freq) <= tol):\n",
    "                    continue\n",
    "                if Q > max_Q:\n",
    "                    next_Q = copy.copy(max_Q)\n",
    "                    next_freq = copy.copy(max_freq)\n",
    "                    max_Q = copy.copy(Q)\n",
    "                    max_freq = copy.copy(freq)\n",
    "                elif Q > next_Q:\n",
    "                    next_Q = copy.copy(Q)\n",
    "                    next_freq = copy.copy(freq)\n",
    "\n",
    "            max_freq_list.append(max_freq)\n",
    "            max_Q_list.append(max_Q)\n",
    "            next_freq_list.append(next_freq)\n",
    "            next_Q_list.append(next_Q)\n",
    "            # print(\"Max  Frequency : \",max_freq*1e-9, \" [GHz]\")\n",
    "            # print(\"Max  Q-value   : \",max_Q*1e-6, \"M\")\n",
    "            # print(\"Next Frequency : \",next_freq*1e-9, \" [GHz]\")\n",
    "            # print(\"Next Q-value   : \",next_Q*1e-6, \"M\")\n",
    "\n",
    "\n",
    "        variation_list = []\n",
    "        for my_dict in solution_data.variations:\n",
    "            new_list = [ i.value for i in list(my_dict.values()) ]\n",
    "            variation_list.extend(new_list)\n",
    "\n",
    "        # Make plots\n",
    "        variation_list = np.array(variation_list)\n",
    "        max_freq_list = np.array(max_freq_list)\n",
    "        next_freq_list = np.array(next_freq_list)\n",
    "        max_Q_list = np.array(max_Q_list)\n",
    "        next_Q_list = np.array(next_Q_list)\n",
    "        max_lifetime_list = 2*max_Q_list/max_freq_list\n",
    "        next_lifetime_list = 2*next_Q_list/next_freq_list\n",
    "        plt.figure(figsize=(15,10))\n",
    "        plt.subplot(231, xlabel = \"Inductance [nH]\", ylabel = \"Frequency [GHz]\")\n",
    "        for imode, mode in enumerate(report.expressions):\n",
    "            plt.plot(variation_list*1e9, mode_freq_array[imode]*1e-9, marker = \".\")\n",
    "        plt.xscale('log')\n",
    "\n",
    "        plt.subplot(232, xlabel = \"Inductance [nH]\", ylabel = \"Q value\")\n",
    "        for imode, mode in enumerate(report.expressions):\n",
    "            plt.plot(variation_list*1e9, mode_Q_array[imode], marker = \".\")\n",
    "        plt.yscale('log')\n",
    "        plt.xscale('log')\n",
    "\n",
    "        plt.subplot(234, xlabel = \"Inductance [nH]\", ylabel = \"Frequency [GHz]\")\n",
    "        plt.plot(variation_list*1e9, max_freq_list*1e-9, marker=\".\", linestyle='None')\n",
    "        #plt.plot(variation_list*1e9, next_freq_list*1e-9, marker=\".\")\n",
    "        plt.xscale('log')\n",
    "\n",
    "        plt.subplot(235, xlabel = \"Frequency [GHz]\", ylabel = \"Q Value\")\n",
    "        plt.plot(max_freq_list*1e-9, max_Q_list, marker=\".\", linestyle='None')\n",
    "        #plt.plot(next_freq_list*1e-9, next_Q_list, marker=\".\")\n",
    "        plt.yscale('log')\n",
    "\n",
    "        plt.subplot(236, xlabel = \"Frequency [GHz]\", ylabel = \"Lifetime [us]\")\n",
    "        plt.plot(max_freq_list*1e-9, max_lifetime_list*1e6, marker=\".\", linestyle='None')\n",
    "        #plt.plot(next_freq_list*1e-9, next_Q_list, marker=\".\")\n",
    "        plt.yscale('log')"
   ]
  },
  {
   "cell_type": "code",
   "execution_count": 15,
   "id": "ecf5c6f7",
   "metadata": {},
   "outputs": [
    {
     "name": "stdout",
     "output_type": "stream",
     "text": [
      "{'Phase': '0deg'}\n",
      "[Cavity10G with 0 Sweeps]\n"
     ]
    }
   ],
   "source": [
    "## Get intrinsic information (First you need the solution frequency)\n",
    "intrinsics = hfss.setups[0].default_intrinsics\n",
    "print(intrinsics)\n",
    "print(hfss.setups)\n",
    "solution = hfss.setups[0].get_solution_data()\n",
    "# intrinsics[\"Freq\"] = hfss.setups[0].properties[\"Solution Freq\"]"
   ]
  },
  {
   "cell_type": "code",
   "execution_count": 16,
   "id": "d63087d1",
   "metadata": {},
   "outputs": [],
   "source": [
    "## Plot field (Currently disabled)\n",
    "# cutlist = [\"Global:YZ\"]\n",
    "# setup_name = hfss.existing_analysis_sweeps[0]\n",
    "# #setup_name = \"Sweep1\"\n",
    "# quantity_name = \"Mag_E\"\n",
    "# intrinsic = {\"Freq\": \"5GHz\", \"Phase\": \"0deg\"}\n",
    "# hfss.logger.info(\"Generating the image\")\n",
    "# plot_obj = hfss.post.plot_field(\n",
    "#         quantity=\"Mag_E\",\n",
    "#         assignment=cutlist,\n",
    "#         plot_type=\"CutPlane\",\n",
    "#         setup=setup_name,\n",
    "#         intrinsics=intrinsic\n",
    "#     )"
   ]
  },
  {
   "cell_type": "code",
   "execution_count": null,
   "id": "237845bc",
   "metadata": {},
   "outputs": [],
   "source": [
    "#field_plot = hfss.post.create_fieldplot_volume( [\"boundary\"],\"Mag_E\", plot_name=\"boundary_Mag\")\n",
    "plane_plot_YZ = hfss.post.create_fieldplot_cutplane(\"Global:YZ\", \"Mag_E\", plot_name = \"plane_Mag_YZ\")\n",
    "plane_plot_XZ = hfss.post.create_fieldplot_cutplane(\"Global:XZ\", \"Mag_E\", plot_name = \"plane_Mag_XZ\")"
   ]
  },
  {
   "cell_type": "code",
   "execution_count": 18,
   "id": "1c9b5963",
   "metadata": {},
   "outputs": [],
   "source": [
    "if config[\"solution\"][\"type\"]==\"Modal\":\n",
    "    # sweeps = hfss.get_sweeps(\"MySetup\")\n",
    "    # sweep = hfss.setups[0].sweeps[0]\n",
    "    # print(sweep.frequencies)\n",
    "\n",
    "    ooptimetric = hfss.get_oo_object(aedt_object=hfss.ooptimetrics, object_name=\"Sweep\")\n",
    "    print(hfss.get_oo_properties(aedt_object=hfss.ooptimetrics, object_name=\"Sweep\"))\n",
    "    print(hfss.get_oo_property_value(aedt_object=hfss.ooptimetrics, object_name=\"Sweep\", prop_name=\"IncludedVariables\"))\n",
    "    print(ooptimetric)\n",
    "\n",
    "    # plane_plot.delete()\n",
    "    # plane_plot = hfss.post.create_fieldplot_cutplane(\"Global:YZ\", \"Mag_E\", plot_name = \"plane_Mag\", setup=\"MySetup: Sweep1\")"
   ]
  },
  {
   "cell_type": "code",
   "execution_count": 23,
   "id": "1d5fe3d4",
   "metadata": {},
   "outputs": [
    {
     "name": "stdout",
     "output_type": "stream",
     "text": [
      "16526377086.397324 0.0\n"
     ]
    }
   ],
   "source": [
    "if config[\"solution\"][\"type\"]==\"Eigenmode\":\n",
    "    sources = {\"1\": \"0\", \"2\": \"0\", \"3\": \"1\"}\n",
    "    hfss.edit_sources(sources, eigenmode_stored_energy=True)\n",
    "\n",
    "    min_value = hfss.post.get_scalar_field_value(\"Mag_E\",\"Minimum\")\n",
    "    max_value = hfss.post.get_scalar_field_value(\"Mag_E\",\"Maximum\")\n",
    "    print(max_value, min_value)\n",
    "\n",
    "    # plane_plot_YZ.change_plot_scale(maximum_value=max_value, minimum_value=1, is_log=True)\n",
    "    # plane_plot_XZ.change_plot_scale(maximum_value=max_value, minimum_value=1, is_log=True)\n",
    "    # hfss.post.change_field_plot_scale(plot_name=\"plane_Mag1\", maximum_value=max_value, minimum_value=1, is_log=True )"
   ]
  },
  {
   "cell_type": "code",
   "execution_count": 20,
   "id": "8acf9370",
   "metadata": {},
   "outputs": [],
   "source": [
    "# for id in range(len(solution_data.variations)):\n",
    "#         solution_data.set_active_variation(id)\n",
    "#         plane_plot.update()\n",
    "#         # hfss.post.create_fieldplot_cutplane(\"Global:YZ\", \"Mag_E\", plot_name = \"plane_Mag\",)"
   ]
  },
  {
   "cell_type": "code",
   "execution_count": 21,
   "id": "15e04f13",
   "metadata": {},
   "outputs": [],
   "source": [
    "## The following function is correct, but doesn't work due to PyVista...\n",
    "# hfss.post.plot_field(\n",
    "#     quantity=\"Mag_E\",\n",
    "#     assignment=\"Global:YZ\",\n",
    "#     plot_type=\"CutPlane\",\n",
    "#     log_scale=True,\n",
    "# )"
   ]
  }
 ],
 "metadata": {
  "kernelspec": {
   "display_name": "pyaedt",
   "language": "python",
   "name": "python3"
  },
  "language_info": {
   "codemirror_mode": {
    "name": "ipython",
    "version": 3
   },
   "file_extension": ".py",
   "mimetype": "text/x-python",
   "name": "python",
   "nbconvert_exporter": "python",
   "pygments_lexer": "ipython3",
   "version": "3.11.13"
  }
 },
 "nbformat": 4,
 "nbformat_minor": 5
}
