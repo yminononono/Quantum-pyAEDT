{
 "cells": [
  {
   "cell_type": "code",
   "execution_count": null,
   "id": "7b4ee14c",
   "metadata": {},
   "outputs": [],
   "source": [
    "%load_ext autoreload\n",
    "%autoreload 2"
   ]
  },
  {
   "cell_type": "code",
   "execution_count": 1,
   "id": "eb45b17e",
   "metadata": {},
   "outputs": [
    {
     "name": "stdout",
     "output_type": "stream",
     "text": [
      "FutureWarning: Module 'pyaedt' has become an alias to the new package structure. Please update you imports to use the new architecture based on 'ansys.aedt.core'. In addition, some files have been renamed to follow the PEP 8 naming convention. The old structure and file names will be deprecated in future versions, see https://aedt.docs.pyansys.com/version/stable/release_1_0.html\n",
      "PyAEDT WARNING: Argument `designname` is deprecated for method `__init__`; use `design` instead.\n",
      "PyAEDT WARNING: Argument `projectname` is deprecated for method `__init__`; use `project` instead.\n",
      "PyAEDT INFO: Python version 3.11.13 | packaged by conda-forge | (main, Jun  4 2025, 14:39:58) [MSC v.1943 64 bit (AMD64)].\n",
      "PyAEDT INFO: PyAEDT version 0.17.4.\n",
      "PyAEDT INFO: Initializing new Desktop session.\n",
      "PyAEDT INFO: Log on console is enabled.\n",
      "PyAEDT INFO: Log on file C:\\Users\\ymino\\AppData\\Local\\Temp\\15\\pyaedt_ymino_68018a56-53de-4540-93d9-bccbd0572100.log is enabled.\n",
      "PyAEDT INFO: Log on AEDT is disabled.\n",
      "PyAEDT INFO: Debug logger is disabled. PyAEDT methods will not be logged.\n",
      "PyAEDT INFO: Launching PyAEDT with gRPC plugin.\n",
      "PyAEDT ERROR: A(n) <class 'psutil.AccessDenied'> error occurred while retrieving information for the active AEDT sessions: (pid=11984, name='ansysedt.exe')\n",
      "PyAEDT ERROR: A(n) <class 'psutil.AccessDenied'> error occurred while retrieving information for the active AEDT sessions: (pid=13016, name='ansysedt.exe')\n",
      "PyAEDT ERROR: A(n) <class 'psutil.AccessDenied'> error occurred while retrieving information for the active AEDT sessions: (pid=16452, name='ansysedt.exe')\n",
      "PyAEDT ERROR: A(n) <class 'psutil.AccessDenied'> error occurred while retrieving information for the active AEDT sessions: (pid=16864, name='ansysedt.exe')\n",
      "PyAEDT ERROR: A(n) <class 'psutil.AccessDenied'> error occurred while retrieving information for the active AEDT sessions: (pid=11984, name='ansysedt.exe')\n",
      "PyAEDT ERROR: A(n) <class 'psutil.AccessDenied'> error occurred while retrieving information for the active AEDT sessions: (pid=13016, name='ansysedt.exe')\n",
      "PyAEDT ERROR: A(n) <class 'psutil.AccessDenied'> error occurred while retrieving information for the active AEDT sessions: (pid=16452, name='ansysedt.exe')\n",
      "PyAEDT ERROR: A(n) <class 'psutil.AccessDenied'> error occurred while retrieving information for the active AEDT sessions: (pid=16864, name='ansysedt.exe')\n",
      "PyAEDT ERROR: A(n) <class 'psutil.AccessDenied'> error occurred while retrieving information for the active AEDT sessions: (pid=11984, name='ansysedt.exe')\n",
      "PyAEDT ERROR: A(n) <class 'psutil.AccessDenied'> error occurred while retrieving information for the active AEDT sessions: (pid=13016, name='ansysedt.exe')\n",
      "PyAEDT ERROR: A(n) <class 'psutil.AccessDenied'> error occurred while retrieving information for the active AEDT sessions: (pid=16452, name='ansysedt.exe')\n",
      "PyAEDT ERROR: A(n) <class 'psutil.AccessDenied'> error occurred while retrieving information for the active AEDT sessions: (pid=16864, name='ansysedt.exe')\n",
      "PyAEDT INFO: New AEDT session is starting on gRPC port 64271.\n",
      "PyAEDT INFO: Electronics Desktop started on gRPC port: 64271 after 15.844790935516357 seconds.\n",
      "PyAEDT INFO: AEDT installation Path C:\\Program Files\\AnsysEM\\v232\\Win64\n",
      "PyAEDT INFO: Ansoft.ElectronicsDesktop.2023.2 version started with process ID 19844.\n",
      "PyAEDT INFO: Project test has been created.\n",
      "PyAEDT INFO: Added design 'A1' of type HFSS.\n",
      "PyAEDT INFO: Aedt Objects correctly read\n"
     ]
    }
   ],
   "source": [
    "from pyaedt.hfss import Hfss\n",
    "\n",
    "solution_type = \"Modal\" # \"Eigenmode\", \"Modal\"\n",
    "\n",
    "use_antenna = False\n",
    "do_chip_angle_sweep = False\n",
    "do_outer_radius_sweep = False\n",
    "do_coax_height_sweep = False\n",
    "\n",
    "hfss = Hfss(\n",
    "    projectname=\"test.aedt\",\n",
    "    designname=\"A1\",\n",
    "    solution_type=solution_type\n",
    ")"
   ]
  },
  {
   "cell_type": "code",
   "execution_count": 2,
   "id": "2ec1e4d0",
   "metadata": {},
   "outputs": [],
   "source": [
    "hfss[\"box_height\"] = \"38mm\"\n",
    "hfss[\"box_length\"] = \"15mm\"\n",
    "hfss[\"$outer_radius\"] = \"5mm\"\n",
    "hfss[\"outer_height\"] = \"38mm\"\n",
    "hfss[\"coax_radius\"] = \"1.5mm\"\n",
    "hfss[\"$coax_height\"] = \"38mm\" #\"9mm\"\n",
    "hfss[\"antenna_height\"] = \"9mm\"\n",
    "hfss[\"antenna_radius\"] = \"1.5mm\"\n",
    "hfss[\"chip_gap\"] = \"20um\"\n",
    "hfss[\"chip_width\"] = \"250um\"\n",
    "hfss[\"chip_height\"] = \"400um\"\n",
    "hfss[\"$chip_theta\"] = \"0deg\""
   ]
  },
  {
   "cell_type": "code",
   "execution_count": 3,
   "id": "b10ba9c3",
   "metadata": {},
   "outputs": [
    {
     "name": "stdout",
     "output_type": "stream",
     "text": [
      "PyAEDT INFO: Modeler class has been initialized! Elapsed time: 0m 0sec\n",
      "PyAEDT WARNING: Argument `position` is deprecated for method `create_box`; use `origin` instead.\n",
      "PyAEDT WARNING: Argument `dimensions_list` is deprecated for method `create_box`; use `sizes` instead.\n",
      "PyAEDT WARNING: Argument `matname` is deprecated for method `create_box`; use `material` instead.\n",
      "PyAEDT INFO: Materials class has been initialized! Elapsed time: 0m 0sec\n"
     ]
    },
    {
     "data": {
      "text/plain": [
       "True"
      ]
     },
     "execution_count": 3,
     "metadata": {},
     "output_type": "execute_result"
    }
   ],
   "source": [
    "box_config = dict(\n",
    "    position = [\"-box_length/2\", \"-box_length/2\", \"outer_height - box_height\"],\n",
    "    dimensions_list = [\"box_length\", \"box_length\", \"box_height\"],\n",
    "    name = \"box\",\n",
    "    matname = \"copper\"\n",
    ")\n",
    "if use_antenna:\n",
    "    box_config.update( dimensions_list = [\"box_length\", \"box_length\", \"box_height + antenna_height\"] )\n",
    "\n",
    "box_object = hfss.modeler.create_box( **box_config )\n",
    "\n",
    "\n",
    "_, vacuum_name = hfss.modeler.duplicate_around_axis(box_object, \"Z\", angle = 0)\n",
    "vacuum_object = hfss.modeler.get_object_from_name(vacuum_name[0])\n",
    "vacuum_object.name = \"boundary\"\n",
    "hfss.assign_material(\"boundary\", \"vacuum\")"
   ]
  },
  {
   "cell_type": "code",
   "execution_count": 4,
   "id": "2822267e",
   "metadata": {},
   "outputs": [
    {
     "name": "stdout",
     "output_type": "stream",
     "text": [
      "PyAEDT WARNING: Argument `cs_axis` is deprecated for method `create_cylinder`; use `orientation` instead.\n",
      "PyAEDT WARNING: Argument `position` is deprecated for method `create_cylinder`; use `origin` instead.\n",
      "PyAEDT WARNING: Argument `matname` is deprecated for method `create_cylinder`; use `material` instead.\n"
     ]
    }
   ],
   "source": [
    "cylinder_config = dict(\n",
    "    cs_axis=\"Z\" ,\n",
    "    position=[0, 0, 0], \n",
    "    radius=\"$outer_radius\", \n",
    "    height=\"outer_height\", \n",
    "    name=\"outer\", \n",
    "    matname=\"vacuum\"\n",
    ")\n",
    "\n",
    "cylinder_object = hfss.modeler.create_cylinder( **cylinder_config )"
   ]
  },
  {
   "cell_type": "code",
   "execution_count": 5,
   "id": "6571d0ae",
   "metadata": {},
   "outputs": [
    {
     "name": "stdout",
     "output_type": "stream",
     "text": [
      "PyAEDT INFO: Parsing design objects. This operation can take time\n",
      "PyAEDT INFO: Refreshing bodies from Object Info\n",
      "PyAEDT INFO: Bodies Info Refreshed Elapsed time: 0m 0sec\n",
      "PyAEDT INFO: 3D Modeler objects parsed. Elapsed time: 0m 0sec\n"
     ]
    },
    {
     "data": {
      "text/plain": [
       "<ansys.aedt.core.modeler.cad.object_3d.Object3d at 0x28f2b5a24d0>"
      ]
     },
     "execution_count": 5,
     "metadata": {},
     "output_type": "execute_result"
    }
   ],
   "source": [
    "box_object.subtract(cylinder_object, keep_originals=False)"
   ]
  },
  {
   "cell_type": "code",
   "execution_count": 6,
   "id": "b59c6690",
   "metadata": {},
   "outputs": [
    {
     "name": "stdout",
     "output_type": "stream",
     "text": [
      "PyAEDT WARNING: Argument `cs_axis` is deprecated for method `create_cylinder`; use `orientation` instead.\n",
      "PyAEDT WARNING: Argument `position` is deprecated for method `create_cylinder`; use `origin` instead.\n",
      "PyAEDT WARNING: Argument `matname` is deprecated for method `create_cylinder`; use `material` instead.\n"
     ]
    }
   ],
   "source": [
    "cylinder_config = dict(\n",
    "    cs_axis=\"Z\" ,\n",
    "    position=[0, 0, 0], \n",
    "    radius=\"coax_radius\", \n",
    "    height=\"$coax_height\", \n",
    "    name=\"coax\", \n",
    "    matname=\"copper\"\n",
    ")\n",
    "\n",
    "coax_object = hfss.modeler.create_cylinder( **cylinder_config )"
   ]
  },
  {
   "cell_type": "code",
   "execution_count": 7,
   "id": "339a6002",
   "metadata": {},
   "outputs": [
    {
     "name": "stdout",
     "output_type": "stream",
     "text": [
      "PyAEDT INFO: Parsing design objects. This operation can take time\n",
      "PyAEDT INFO: Refreshing bodies from Object Info\n",
      "PyAEDT INFO: Bodies Info Refreshed Elapsed time: 0m 0sec\n",
      "PyAEDT INFO: 3D Modeler objects parsed. Elapsed time: 0m 0sec\n",
      "PyAEDT INFO: Union of 2 objects has been executed.\n"
     ]
    },
    {
     "data": {
      "text/plain": [
       "<ansys.aedt.core.modeler.cad.object_3d.Object3d at 0x28f2b5a24d0>"
      ]
     },
     "execution_count": 7,
     "metadata": {},
     "output_type": "execute_result"
    }
   ],
   "source": [
    "box_object.unite(coax_object)"
   ]
  },
  {
   "cell_type": "markdown",
   "id": "99664e38",
   "metadata": {},
   "source": [
    "## Create antenna"
   ]
  },
  {
   "cell_type": "code",
   "execution_count": 8,
   "id": "93fc783b",
   "metadata": {},
   "outputs": [],
   "source": [
    "if use_antenna:\n",
    "    antenna_config = dict(\n",
    "        cs_axis=\"Z\" ,\n",
    "        position=[0, 0, \"outer_height\"], \n",
    "        radius=\"$outer_radius\", \n",
    "        height=\"antenna_height\", \n",
    "        name=\"antenna\", \n",
    "        matname=\"vacuum\"\n",
    "    )\n",
    "\n",
    "    antenna_object = hfss.modeler.create_cylinder( **antenna_config )\n",
    "    box_object.subtract(antenna_object, keep_originals=False)\n",
    "\n",
    "    antenna_config = dict(\n",
    "        cs_axis=\"Z\" ,\n",
    "        position=[0, 0, \"outer_height\"], \n",
    "        radius=\"coax_radius\", \n",
    "        height=\"antenna_height\", \n",
    "        name=\"core\", \n",
    "        matname=\"copper\"\n",
    "    )\n",
    "\n",
    "    core_object = hfss.modeler.create_cylinder( **antenna_config )"
   ]
  },
  {
   "cell_type": "markdown",
   "id": "8ee23895",
   "metadata": {},
   "source": [
    "## Create chip"
   ]
  },
  {
   "cell_type": "code",
   "execution_count": 9,
   "id": "341c63ee",
   "metadata": {},
   "outputs": [],
   "source": [
    "chip_coord = hfss.modeler.create_coordinate_system(origin = [0, \"0.5*(coax_radius + $outer_radius)\",\"0.8*$coax_height\"], name = \"chip_coord\")\n",
    "chip_coord.set_as_working_cs()\n",
    "cap1 = hfss.modeler.create_rectangle(origin = [\"-0.5*chip_width\", \"0.5*chip_gap\", 0], sizes = [\"chip_width\", \"chip_height\"], name = \"cap1\", orientation=\"XY\")\n",
    "cap2 = hfss.modeler.create_rectangle(origin = [\"-0.5*chip_width\", \"-0.5*chip_gap - chip_height\", 0], sizes =  [\"chip_width\", \"chip_height\"], name = \"cap2\", orientation=\"XY\")"
   ]
  },
  {
   "cell_type": "code",
   "execution_count": 10,
   "id": "624f54c4",
   "metadata": {},
   "outputs": [
    {
     "name": "stdout",
     "output_type": "stream",
     "text": [
      "PyAEDT INFO: Boundary Perfect E PerfectE_box has been created.\n",
      "PyAEDT INFO: Boundary Perfect E PerfectE_cap1 has been created.\n",
      "PyAEDT INFO: Boundary Perfect E PerfectE_cap2 has been created.\n"
     ]
    }
   ],
   "source": [
    "## Only for newer pyaedt versions ?\n",
    "hfss.assign_perfect_e(\"box\")\n",
    "hfss.assign_perfect_e(\"cap1\")\n",
    "hfss.assign_perfect_e(\"cap2\")\n",
    "if use_antenna:\n",
    "    hfss.assign_perfect_e(\"core\")"
   ]
  },
  {
   "cell_type": "markdown",
   "id": "f8099b98",
   "metadata": {},
   "source": [
    "## Create ports"
   ]
  },
  {
   "cell_type": "code",
   "execution_count": 11,
   "id": "fe51668f",
   "metadata": {},
   "outputs": [],
   "source": [
    "# faces = vacuum_object.faces\n",
    "# top_face = max(faces, key=lambda f: f.center[2])"
   ]
  },
  {
   "cell_type": "code",
   "execution_count": 12,
   "id": "e7df511b",
   "metadata": {},
   "outputs": [
    {
     "name": "stdout",
     "output_type": "stream",
     "text": [
      "PyAEDT INFO: Boundary Wave Port Port_in has been created.\n",
      "PyAEDT INFO: Boundary Wave Port Readout has been created.\n",
      "PyAEDT INFO: Boundary Lumped Port Port_out has been created.\n"
     ]
    },
    {
     "data": {
      "text/plain": [
       "<ansys.aedt.core.modules.boundary.common.BoundaryObject at 0x28f2fc2a210>"
      ]
     },
     "execution_count": 12,
     "metadata": {},
     "output_type": "execute_result"
    }
   ],
   "source": [
    "hfss.modeler.set_working_coordinate_system(\"Global\")\n",
    "if use_antenna:\n",
    "    port_in = hfss.modeler.create_circle(origin = [0, 0, \"outer_height + antenna_height\"], radius = \"$outer_radius\", name = \"port_in\", orientation=\"XY\")\n",
    "else:\n",
    "    port_in = hfss.modeler.create_circle(origin = [0, 0, \"outer_height\"], radius = \"$outer_radius\", name = \"port_in\", orientation=\"XY\")\n",
    "    readout = hfss.modeler.create_circle(origin = [0, 0, 0], radius = \"$outer_radius\", name = \"readout\", orientation=\"XY\")\n",
    "\n",
    "hfss.wave_port(assignment=\"port_in\", name = \"Port_in\")\n",
    "hfss.wave_port(assignment=\"readout\", name = \"Readout\")\n",
    "\n",
    "hfss.modeler.set_working_coordinate_system(\"chip_coord\")\n",
    "port_out = hfss.modeler.create_rectangle(origin = [\"-0.5*chip_gap\",\"-0.5*chip_gap\" ], sizes=[\"chip_gap\",\"chip_gap\"], name = \"port_out\", orientation=\"XY\")\n",
    "hfss.lumped_port(assignment=\"port_out\", integration_line = hfss.AxisDir.YNeg, name=\"Port_out\")"
   ]
  },
  {
   "cell_type": "markdown",
   "id": "29d6ac96",
   "metadata": {},
   "source": [
    "## Rotate chip"
   ]
  },
  {
   "cell_type": "code",
   "execution_count": 13,
   "id": "4485f27d",
   "metadata": {},
   "outputs": [
    {
     "data": {
      "text/plain": [
       "True"
      ]
     },
     "execution_count": 13,
     "metadata": {},
     "output_type": "execute_result"
    }
   ],
   "source": [
    "hfss.modeler.set_working_coordinate_system(\"chip_coord\")\n",
    "hfss.modeler.rotate(assignment=[\"cap1\",\"cap2\",\"port_out\"], axis=\"X\", angle=\"$chip_theta\")"
   ]
  },
  {
   "cell_type": "code",
   "execution_count": null,
   "id": "33837df6",
   "metadata": {},
   "outputs": [
    {
     "name": "stdout",
     "output_type": "stream",
     "text": [
      "PyAEDT INFO: Parsing C:/HFSS/ymino/test.aedt.\n",
      "PyAEDT INFO: File C:/HFSS/ymino/test.aedt correctly loaded. Elapsed time: 0m 0sec\n",
      "PyAEDT INFO: aedt file load time 0.057840824127197266\n",
      "PyAEDT INFO: Linear count sweep Sweep1 has been correctly created\n"
     ]
    }
   ],
   "source": [
    "# if solution_type==\"Modal\":\n",
    "#     hfss.create_open_region(Frequency=\"1GHz\")\n",
    "\n",
    "if solution_type==\"Modal\":\n",
    "\n",
    "    setup = hfss.create_setup(\"MySetup\") \n",
    "    setup.create_frequency_sweep(\n",
    "        unit=\"GHz\",\n",
    "        name=\"Sweep1\",\n",
    "        start_frequency=0.0,\n",
    "        stop_frequency=20.0,\n",
    "        sweep_type=\"Interpolating\",\n",
    "    )"
   ]
  },
  {
   "cell_type": "code",
   "execution_count": 15,
   "id": "ef024b2e",
   "metadata": {},
   "outputs": [],
   "source": [
    "if solution_type==\"EigenMode\":\n",
    "    setup = hfss.create_setup(\"MySetup\") \n",
    "    setup.props[\"Frequency\"]= \"50MHz\" \n",
    "    setup.props[\"MaximumPasses\"]=10"
   ]
  },
  {
   "cell_type": "code",
   "execution_count": 16,
   "id": "71e4c5de",
   "metadata": {},
   "outputs": [
    {
     "name": "stdout",
     "output_type": "stream",
     "text": [
      "PyAEDT INFO: Key Desktop/ActiveDSOConfigurations/HFSS correctly changed.\n",
      "PyAEDT INFO: Solving design setup MySetup\n",
      "PyAEDT INFO: Design setup MySetup solved correctly in 0.0h 1.0m 51.0s\n"
     ]
    }
   ],
   "source": [
    "if not (do_chip_angle_sweep or do_outer_radius_sweep or do_coax_height_sweep):\n",
    "    hfss.analyze_setup(name = \"MySetup\", cores=8)"
   ]
  },
  {
   "cell_type": "code",
   "execution_count": 17,
   "id": "f97ba44b",
   "metadata": {},
   "outputs": [],
   "source": [
    "if do_chip_angle_sweep:\n",
    "    sweep = hfss.parametrics.add(\n",
    "        variable=\"$chip_theta\",\n",
    "        start_point=0,\n",
    "        end_point=90,\n",
    "        step=10,\n",
    "        name=\"ChipAngle\"\n",
    "    )\n",
    "\n",
    "    sweep.analyze(cores = 8)"
   ]
  },
  {
   "cell_type": "code",
   "execution_count": 18,
   "id": "6c4f6a0f",
   "metadata": {},
   "outputs": [],
   "source": [
    "if do_outer_radius_sweep:\n",
    "    radius_sweep = hfss.parametrics.add(\n",
    "        variable=\"$outer_radius\",\n",
    "        start_point=5,\n",
    "        end_point=15,\n",
    "        step=6,\n",
    "        name=\"Radius\"\n",
    "    )\n",
    "    radius_sweep.analyze(cores = 8)"
   ]
  },
  {
   "cell_type": "code",
   "execution_count": 19,
   "id": "974df046",
   "metadata": {},
   "outputs": [],
   "source": [
    "if do_coax_height_sweep:\n",
    "    height_sweep = hfss.parametrics.add(\n",
    "        variable=\"$coax_height\",\n",
    "        start_point=9,\n",
    "        end_point=38,\n",
    "        step=3,\n",
    "        name=\"Coax_height\"\n",
    "    )\n",
    "    height_sweep.analyze(cores = 8)"
   ]
  },
  {
   "cell_type": "markdown",
   "id": "cd0c0c76",
   "metadata": {},
   "source": [
    "## Produce Report"
   ]
  },
  {
   "cell_type": "code",
   "execution_count": 20,
   "id": "142142a7",
   "metadata": {},
   "outputs": [
    {
     "name": "stdout",
     "output_type": "stream",
     "text": [
      "PyAEDT INFO: PostProcessor class has been initialized! Elapsed time: 0m 0sec\n",
      "PyAEDT INFO: PostProcessor class has been initialized! Elapsed time: 0m 0sec\n",
      "PyAEDT INFO: Post class has been initialized! Elapsed time: 0m 0sec\n"
     ]
    },
    {
     "data": {
      "text/plain": [
       "<ansys.aedt.core.visualization.report.standard.Standard at 0x1cdc4457d50>"
      ]
     },
     "execution_count": 20,
     "metadata": {},
     "output_type": "execute_result"
    }
   ],
   "source": [
    "report_config = dict(\n",
    "    expressions=[\"db(S12)\"], \n",
    "    plot_name=\"S-parameter\", \n",
    "    variations={\n",
    "        \"Freq\": [\"All\"],\n",
    "    }\n",
    ")\n",
    "\n",
    "if do_chip_angle_sweep:\n",
    "    report_config[\"variations\"][\"$chip_theta\"] = [\"0deg\",\"90deg\"] # [\"All\"]\n",
    "if do_outer_radius_sweep:\n",
    "    report_config[\"variations\"][\"$outer_radius\"] = [\"All\"]\n",
    "if do_coax_height_sweep:\n",
    "    report_config[\"variations\"][\"$coax_height\"] = [\"All\"]\n",
    "\n",
    "hfss.post.create_report( **report_config )"
   ]
  },
  {
   "cell_type": "code",
   "execution_count": null,
   "id": "ebf46206",
   "metadata": {},
   "outputs": [
    {
     "ename": "NameError",
     "evalue": "name 'hfss' is not defined",
     "output_type": "error",
     "traceback": [
      "\u001b[31m---------------------------------------------------------------------------\u001b[39m",
      "\u001b[31mNameError\u001b[39m                                 Traceback (most recent call last)",
      "\u001b[36mCell\u001b[39m\u001b[36m \u001b[39m\u001b[32mIn[2]\u001b[39m\u001b[32m, line 1\u001b[39m\n\u001b[32m----> \u001b[39m\u001b[32m1\u001b[39m traces_to_plot = \u001b[43mhfss\u001b[49m.get_traces_for_plot()\n\u001b[32m      2\u001b[39m report = hfss.post.create_report(traces_to_plot)  \u001b[38;5;66;03m# Creates a report in HFSS\u001b[39;00m\n\u001b[32m      3\u001b[39m solution = report.get_solution_data()\n",
      "\u001b[31mNameError\u001b[39m: name 'hfss' is not defined"
     ]
    }
   ],
   "source": [
    "# traces_to_plot = hfss.get_traces_for_plot()\n",
    "# report = hfss.post.create_report(traces_to_plot)  # Creates a report in HFSS\n",
    "# solution = report.get_solution_data()\n",
    "# solution.plot(solution.expressions[1])  # Matplotlib axes object."
   ]
  },
  {
   "cell_type": "code",
   "execution_count": 17,
   "id": "ecf5c6f7",
   "metadata": {},
   "outputs": [
    {
     "name": "stdout",
     "output_type": "stream",
     "text": [
      "{'Freq': '5GHz', 'Phase': '0deg'}\n"
     ]
    }
   ],
   "source": [
    "## Get intrinsic information (First you need the solution frequency)\n",
    "\n",
    "intrinsics = hfss.setups[0].default_intrinsics\n",
    "print(intrinsics)\n",
    "# intrinsics[\"Freq\"] = hfss.setups[0].properties[\"Solution Freq\"]"
   ]
  },
  {
   "cell_type": "code",
   "execution_count": null,
   "id": "d63087d1",
   "metadata": {},
   "outputs": [
    {
     "name": "stdout",
     "output_type": "stream",
     "text": [
      "PyAEDT INFO: Generating the image\n",
      "PyAEDT INFO: Active Design set to A1\n"
     ]
    },
    {
     "name": "stderr",
     "output_type": "stream",
     "text": [
      "ERROR:root:failed to get wglChoosePixelFormatARB\n",
      "ERROR:root:failed to get valid pixel format.\n"
     ]
    },
    {
     "ename": "",
     "evalue": "",
     "output_type": "error",
     "traceback": [
      "\u001b[1;31mThe Kernel crashed while executing code in the current cell or a previous cell. \n",
      "\u001b[1;31mPlease review the code in the cell(s) to identify a possible cause of the failure. \n",
      "\u001b[1;31mClick <a href='https://aka.ms/vscodeJupyterKernelCrash'>here</a> for more info. \n",
      "\u001b[1;31mView Jupyter <a href='command:jupyter.viewOutput'>log</a> for further details."
     ]
    }
   ],
   "source": [
    "## Plot field (Currently disabled)\n",
    "# cutlist = [\"Global:YZ\"]\n",
    "# setup_name = hfss.existing_analysis_sweeps[0]\n",
    "# #setup_name = \"Sweep1\"\n",
    "# quantity_name = \"Mag_E\"\n",
    "# intrinsic = {\"Freq\": \"5GHz\", \"Phase\": \"0deg\"}\n",
    "# hfss.logger.info(\"Generating the image\")\n",
    "# plot_obj = hfss.post.plot_field(\n",
    "#         quantity=\"Mag_E\",\n",
    "#         assignment=cutlist,\n",
    "#         plot_type=\"CutPlane\",\n",
    "#         setup=setup_name,\n",
    "#         intrinsics=intrinsic\n",
    "#     )"
   ]
  },
  {
   "cell_type": "code",
   "execution_count": 18,
   "id": "237845bc",
   "metadata": {},
   "outputs": [
    {
     "name": "stdout",
     "output_type": "stream",
     "text": [
      "PyAEDT INFO: Active Design set to A1\n"
     ]
    }
   ],
   "source": [
    "#field_plot = hfss.post.create_fieldplot_volume( [\"boundary\"],\"Mag_E\", plot_name=\"boundary_Mag\")\n",
    "plane_plot = hfss.post.create_fieldplot_cutplane(\"Global:YZ\", \"Mag_E\", plot_name = \"plane_Mag\")"
   ]
  }
 ],
 "metadata": {
  "kernelspec": {
   "display_name": "pyaedt",
   "language": "python",
   "name": "python3"
  },
  "language_info": {
   "codemirror_mode": {
    "name": "ipython",
    "version": 3
   },
   "file_extension": ".py",
   "mimetype": "text/x-python",
   "name": "python",
   "nbconvert_exporter": "python",
   "pygments_lexer": "ipython3",
   "version": "3.11.13"
  }
 },
 "nbformat": 4,
 "nbformat_minor": 5
}
